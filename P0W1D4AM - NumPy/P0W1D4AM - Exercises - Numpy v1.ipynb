{
  "nbformat": 4,
  "nbformat_minor": 0,
  "metadata": {
    "colab": {
      "name": "P0W1D3PM - Exercises - Numpy.ipynb",
      "provenance": [],
      "collapsed_sections": []
    },
    "kernelspec": {
      "name": "python3",
      "display_name": "Python 3"
    },
    "language_info": {
      "name": "python"
    }
  },
  "cells": [
    {
      "cell_type": "markdown",
      "metadata": {
        "id": "WYt_EwVgAEqU"
      },
      "source": [
        "# LATIHAN - P0W1D3PM : NUMPY"
      ]
    },
    {
      "cell_type": "markdown",
      "metadata": {
        "id": "tiybAoLEALZz"
      },
      "source": [
        "**NOMOR 1**\n",
        "\n",
        "Buatlah sebuah array seperti dibawah ini dan tambahkan setiap elemennya dengan `1`.\n",
        "\n",
        "```\n",
        "a = [10, 20, 30, 40, 50]\n",
        "```"
      ]
    },
    {
      "cell_type": "markdown",
      "metadata": {
        "id": "j5svIAueA-at"
      },
      "source": [
        "**NOMOR 2**\n",
        "\n",
        "Buatlah sebuah array seperti dibawah ini dan keluarkan element yang bernilai negatif.\n",
        "\n",
        "```\n",
        "b = [-3, 0, -2, 1, 2, 3, -4]\n",
        "```"
      ]
    },
    {
      "cell_type": "markdown",
      "metadata": {
        "id": "5CifUxncBycd"
      },
      "source": [
        "**NOMOR 3**\n",
        "\n",
        "Buatlah sebuah array seperti dibawah ini. Keluarkan element yang bernilai positif kemudian urutkan dari nilai yang kecil ke besar\n",
        "\n",
        "```\n",
        "c = [10, -8, 4, 5, -41, 7, 5, -4]\n",
        "```"
      ]
    },
    {
      "cell_type": "markdown",
      "metadata": {
        "id": "HCADhAfWCiX-"
      },
      "source": [
        "**NOMOR 4**\n",
        "\n",
        "Buatlah array seperti dibawah ini kemudian tumpukkan secara horizontal dan vertikal satu sama lain.\n",
        "\n",
        "```\n",
        "d = [1, 2, 3, 4, 5]\n",
        "e = [6, 7, 8, 9, 10]\n",
        "```"
      ]
    },
    {
      "cell_type": "markdown",
      "metadata": {
        "id": "a6rPOD9gFkMX"
      },
      "source": [
        "**NOMOR 5**\n",
        "\n",
        "Buatlah dua buah array seperti dibawah ini yang berasal dari 1 deklarasi variabel yang sama. Kemudian, kalikan array pertama dengan `2` dan kalikan array kedua dengan `3`.\n",
        "\n",
        "```\n",
        "f = [10, 20, 30, 40, 50]\n",
        "```\n",
        "\n",
        "Ekspektasi output : \n",
        "```\n",
        "hasil perkalian dengan 2 -> [20, 40, 60, 80, 100] \n",
        "hasil perkalian dengan 3 -> [30, 60, 90, 120, 150]\n",
        "```"
      ]
    },
    {
      "cell_type": "markdown",
      "metadata": {
        "id": "O5YBZlhND_tI"
      },
      "source": [
        "**NOMOR 6**\n",
        "\n",
        "Buatlah sebuah array seperti dibawah ini dan hitung total jumlahnya.\n",
        "\n",
        "```\n",
        "h = [1, 2, 3, 4, 5]\n",
        "j = [ [1, 2, 3],\n",
        "      [4, 5, 6]]\n",
        "```\n",
        "\n",
        "Ekspektasi output :\n",
        "\n",
        "```\n",
        "total nilai h = 15\n",
        "total nilai j berdasarkan penjumlahan baris = [6, 15]\n",
        "total nilai j berdasarkan penjumlahan kolom = [5, 7, 9]\n",
        "```"
      ]
    },
    {
      "cell_type": "markdown",
      "metadata": {
        "id": "LBUuItrJKwzg"
      },
      "source": [
        "**NOMOR 7**\n",
        "\n",
        "Buatlah sebuah array seperti dibawah ini dan cari nilai `min`, `max`, dan `sum` per baris dan per kolom.\n",
        "\n",
        "```\n",
        "k = [ [1, 2, 3],\n",
        "      [4, 5, 6]]\n",
        "```"
      ]
    },
    {
      "cell_type": "markdown",
      "metadata": {
        "id": "J6a6XCIaOZ9_"
      },
      "source": [
        "**NOMOR 8**\n",
        "\n",
        "Buatlah sebuah array seperti dibawah ini dan cari baris kedua dan kolom kedua.\n",
        "\n",
        "```\n",
        "n = [ [1, 2, 3], \n",
        "      [4, 5, 6],\n",
        "      [7, 8, 9]]\n",
        "```"
      ]
    },
    {
      "cell_type": "markdown",
      "metadata": {
        "id": "TBse5Mg4MQqQ"
      },
      "source": [
        "**NOMOR 9**\n",
        "\n",
        "Buatlah sebuah array seperti dibawah ini dan cari nilai `min`, `max`, dan `sum` untuk baris kedua dan kolom kedua.\n",
        "\n",
        "```\n",
        "m = [ [1, 2, 3], \n",
        "      [4, 5, 6],\n",
        "      [7, 8, 9]]\n",
        "```"
      ]
    },
    {
      "cell_type": "markdown",
      "metadata": {
        "id": "auIJcLvRbdho"
      },
      "source": [
        "**NOMOR 10**\n",
        "\n",
        "<img src='https://i.ibb.co/JvBzgWn/greyscale.png'>\n",
        "\n",
        "Download image [disini](https://i.ibb.co/JvBzgWn/greyscale.png)\n",
        "\n",
        "* Load gambar tersebut dengan menggunakan library matplotlib.\n",
        "* Jawab pertanyaan berikut ini : \n",
        "  - Berapa ukuran gambar tersebut.\n",
        "  - Berapa total piksel/element pada gambar tersebut.\n",
        "  - Cerahkan gambar tersebut dengan menambahkan suatu angka."
      ]
    }
  ]
}