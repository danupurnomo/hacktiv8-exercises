{
  "cells": [
    {
      "cell_type": "markdown",
      "metadata": {
        "id": "qOAIBVsr9xWz"
      },
      "source": [
        "# P0W2D4AM - SQL (Basic)"
      ]
    },
    {
      "cell_type": "markdown",
      "metadata": {
        "id": "0JtLdJ9m975D"
      },
      "source": [
        "## A. Create Table\n",
        "\n",
        "Create a table named `teachers` with criteria as below : \n",
        "\n",
        "<img src='https://i.ibb.co/ChCV1JB/01-Define-table-teachers.png'>"
      ]
    },
    {
      "cell_type": "markdown",
      "metadata": {
        "id": "iFIgrXFK_8M9"
      },
      "source": [
        "```\n",
        "CREATE TABLE teachers (\n",
        "    id INT NOT NULL PRIMARY KEY AUTO_INCREMENT,\n",
        "    first_name varchar(25) NOT NULL,\n",
        "    last_name varchar(50),\n",
        "    school varchar(50) NOT NULL,\n",
        "    hire_date date,\n",
        "    salary numeric\n",
        "    );\n",
        "```"
      ]
    },
    {
      "cell_type": "markdown",
      "metadata": {
        "id": "9wmUI18sAGoi"
      },
      "source": [
        "## B. Insert Data"
      ]
    },
    {
      "cell_type": "markdown",
      "metadata": {
        "id": "nlEbvLk-ANmX"
      },
      "source": [
        "### B.1 With param `id`"
      ]
    },
    {
      "cell_type": "markdown",
      "metadata": {
        "id": "O6x21JYkAWdH"
      },
      "source": [
        "```\n",
        "INSERT INTO teachers (id,first_name, last_name, school, hire_date, salary)\n",
        "    VALUES (1,'Janet', 'Smith', 'MIT', '2011-10-30', 36200),\n",
        "           (2,'Lee', 'Reynolds', 'MIT', '1993-05-22', 65000),\n",
        "           (3,'Samuel', 'Cole', 'Cambridge University', '2005-08-01', 43500),\n",
        "           (4,'Samantha', 'Bush', 'Cambridge University', '2011-10-30', 36200),\n",
        "           (5,'Betty', 'Diaz', 'Cambridge University', '2005-08-30', 43500),\n",
        "           (6,'Kathleen', 'Roush', 'MIT', '2010-10-22', 38500),\n",
        "           (7,'James', 'Diaz', 'Harvard University', '2003-07-18', 61000),\n",
        "           (8,'Zack', 'Smith', 'Harvard University', '2000-12-29', 55500),\n",
        "           (9,'Luis', 'Gonzales', 'Standford University', '2002-12-01', 50000),\n",
        "           (10,'Frank', 'Abbers', 'Standford University', '1999-01-30', 66000);\n",
        "```"
      ]
    },
    {
      "cell_type": "markdown",
      "metadata": {
        "id": "onu_IXQbAai-"
      },
      "source": [
        "### B.2. Without param `id`"
      ]
    },
    {
      "cell_type": "markdown",
      "metadata": {
        "id": "r9WiSQfsAkXG"
      },
      "source": [
        "```\n",
        "INSERT INTO teachers (first_name, last_name, school, hire_date, salary)\n",
        "    VALUES ('Samuel', 'Abbers', 'Standford University', '2006-01-30', 32000),\n",
        "           ('Jessica', 'Abbers', 'Standford University', '2005-01-30', 33000),\n",
        "           ('Tom', 'Massi', 'Harvard University', '1999-09-09', 39500),\n",
        "           ('Esteban', 'Brown', 'MIT', '2007-01-30', 36000),\n",
        "           ('Carlos', 'Alonso', 'Standford University', '2001-01-30', 44000);\n",
        "```"
      ]
    },
    {
      "cell_type": "markdown",
      "metadata": {
        "id": "1s1gbY3uAqQN"
      },
      "source": [
        "---\n",
        "# P0W2D4PM (Group By, Join, Subquery)\n",
        "\n",
        "For this lecture, we are still using the table above and its data. So, make sure in your database, there is a table named `teachers` as we defined above."
      ]
    },
    {
      "cell_type": "markdown",
      "metadata": {
        "id": "pLkZpM-2Blw7"
      },
      "source": [
        "## A. Create Table\n",
        "\n",
        "Create a table named `courses` with criteria as below : \n",
        "\n",
        "<img src='https://i.ibb.co/sJyYtRp/02-Define-table-courses.png'>"
      ]
    },
    {
      "cell_type": "markdown",
      "metadata": {
        "id": "PMJMsVWBDF5w"
      },
      "source": [
        "```\n",
        "CREATE TABLE courses (\n",
        "    id INT NOT NULL PRIMARY KEY AUTO_INCREMENT,\n",
        "    name varchar(20),\n",
        "    teachers_id INT,\n",
        "    total_students INT\n",
        "    );\n",
        "```"
      ]
    },
    {
      "cell_type": "markdown",
      "metadata": {
        "id": "L__jF3rsDS7-"
      },
      "source": [
        "# B. Insert Data"
      ]
    },
    {
      "cell_type": "markdown",
      "metadata": {
        "id": "GlJCRE5XDW0m"
      },
      "source": [
        "```\n",
        "INSERT INTO courses (name, teachers_id, total_students)\n",
        "    VALUES  ('Calculus', 2, 20),\n",
        "            ('Physics', 2, 10),\n",
        "            ('Calculus', 1, 30),\n",
        "            ('Computer Science', 1, 20),\n",
        "            ('Politic', 4, 15),\n",
        "            ('Algebra', 2, 10),\n",
        "            ('Algebra', 13, 30),\n",
        "            ('Computer Science', 10, 35),\n",
        "            ('Life Science', 11, 20),\n",
        "            ('Chemistry', 9, 22),\n",
        "            ('Chemistry', 8, 16),\n",
        "            ('Calculus', 5, 19),\n",
        "            ('Politic', 4, 17),\n",
        "            ('Biology', 6, 22),\n",
        "            ('Physics', 3, 29),\n",
        "            ('Biology', 8, 28),\n",
        "            ('Calculus', 12, 34),\n",
        "            ('Physics', 13, 34),\n",
        "            ('Biology', 14, 25),\n",
        "            ('Calculus', 15, 20);\n",
        "```"
      ]
    },
    {
      "cell_type": "markdown",
      "metadata": {
        "id": "WJpgZDDuDaiw"
      },
      "source": [
        "## C. Cases"
      ]
    },
    {
      "cell_type": "markdown",
      "metadata": {
        "id": "x3AtmDTPEBML"
      },
      "source": [
        "## C.1 Group By\n",
        "\n",
        "Cases : \n",
        "\n",
        "* Case 1 : `Who is the teacher with the highest salary for each university ?`\n",
        "\n",
        "* Case 2 : `Who is the teacher with the highest salary from Standford University ?`"
      ]
    },
    {
      "cell_type": "markdown",
      "metadata": {
        "id": "sosGLPwSEI8G"
      },
      "source": [
        "## C.2. Join\n",
        "\n",
        "Cases : \n",
        "* Case 1 : `Display all courses with teacher's identity`\n",
        "\n",
        "* Case 2 : `Display how many courses per universities`\n",
        "\n",
        "* Case 3 : `Display how many total_students per teachers`\n",
        "\n",
        "* Case 4 : `Display how many courses per teachers`"
      ]
    }
  ],
  "metadata": {
    "colab": {
      "collapsed_sections": [],
      "name": "[QUESTIONS] P0W2D4AM & P0W2D4PM - SQL.ipynb",
      "provenance": [],
      "toc_visible": true
    },
    "kernelspec": {
      "display_name": "Python 3",
      "name": "python3"
    },
    "language_info": {
      "name": "python"
    }
  },
  "nbformat": 4,
  "nbformat_minor": 0
}
