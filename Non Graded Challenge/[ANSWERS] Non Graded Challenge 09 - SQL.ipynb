{
  "nbformat": 4,
  "nbformat_minor": 0,
  "metadata": {
    "colab": {
      "name": "[ANSWERS] Non Graded Challenge 9 - SQL.ipynb",
      "provenance": [],
      "collapsed_sections": []
    },
    "kernelspec": {
      "name": "python3",
      "display_name": "Python 3"
    },
    "language_info": {
      "name": "python"
    }
  },
  "cells": [
    {
      "cell_type": "markdown",
      "source": [
        "# Non Graded Challenge 9 - SQL"
      ],
      "metadata": {
        "id": "YDPxq84G2yNx"
      }
    },
    {
      "cell_type": "markdown",
      "source": [
        "---\n",
        "## Assignment Instructions\n",
        "\n",
        "Langkah - langkah sebelum mengerjakan : \n",
        "* Gunakan dataset dari URL [ini](https://github.com/danupurnomo/hacktiv8-exercises/blob/main/P0W2D4AM%20%26%20P0W2D4PM%20-%20SQL/P0W2D4AM%20%26%20P0W2D4PM%20-%20SQL.ipynb).\n",
        "* Buatlah table `teachers` dan `courses`. Masukkan semua data pada masing-masing table.\n",
        "* Table `teachers` akan memiliki 15 data.\n",
        "* Table `courses` akan memiliki 20 data.\n",
        "\n",
        "Soal : Carilah dosen yang memiliki gaji tertinggi per masing-masing mata kuliah. Tampilkan semua atribut dosen dan semua atribut mata kuliahnya. Urutkan hasilnya berdasarkan nama mata kuliahnya secara ascending (A-Z)."
      ],
      "metadata": {
        "id": "yjR2mERp21LW"
      }
    },
    {
      "cell_type": "markdown",
      "source": [
        "---\n",
        "## Answer"
      ],
      "metadata": {
        "id": "DOzlAW9v28DD"
      }
    },
    {
      "cell_type": "markdown",
      "source": [
        "### Data Definition Language (DDL) & Data Manipulation Language (DML)"
      ],
      "metadata": {
        "id": "qQLaS4BQ2-dC"
      }
    },
    {
      "cell_type": "markdown",
      "source": [
        "```\n",
        "-- Create Table teachers\n",
        "CREATE TABLE teachers (\n",
        "    id INT NOT NULL PRIMARY KEY AUTO_INCREMENT,\n",
        "    first_name varchar(25) NOT NULL,\n",
        "    last_name varchar(50),\n",
        "    school varchar(50) NOT NULL,\n",
        "    hire_date date,\n",
        "    salary numeric\n",
        "    );\n",
        "\n",
        "-- Insert Data into Table teachers - Part 1\n",
        "INSERT INTO teachers (id,first_name, last_name, school, hire_date, salary)\n",
        "    VALUES (1,'Janet', 'Smith', 'MIT', '2011-10-30', 36200),\n",
        "           (2,'Lee', 'Reynolds', 'MIT', '1993-05-22', 65000),\n",
        "           (3,'Samuel', 'Cole', 'Cambridge University', '2005-08-01', 43500),\n",
        "           (4,'Samantha', 'Bush', 'Cambridge University', '2011-10-30', 36200),\n",
        "           (5,'Betty', 'Diaz', 'Cambridge University', '2005-08-30', 43500),\n",
        "           (6,'Kathleen', 'Roush', 'MIT', '2010-10-22', 38500),\n",
        "           (7,'James', 'Diaz', 'Harvard University', '2003-07-18', 61000),\n",
        "           (8,'Zack', 'Smith', 'Harvard University', '2000-12-29', 55500),\n",
        "           (9,'Luis', 'Gonzales', 'Standford University', '2002-12-01', 50000),\n",
        "           (10,'Frank', 'Abbers', 'Standford University', '1999-01-30', 66000);\n",
        "\n",
        "-- Insert Data into Table teachers - Part 2\n",
        "INSERT INTO teachers (first_name, last_name, school, hire_date, salary)\n",
        "    VALUES ('Samuel', 'Abbers', 'Standford University', '2006-01-30', 32000),\n",
        "           ('Jessica', 'Abbers', 'Standford University', '2005-01-30', 33000),\n",
        "           ('Tom', 'Massi', 'Harvard University', '1999-09-09', 39500),\n",
        "           ('Esteban', 'Brown', 'MIT', '2007-01-30', 36000),\n",
        "           ('Carlos', 'Alonso', 'Standford University', '2001-01-30', 44000);\n",
        "\n",
        "-- Create Table courses\n",
        "CREATE TABLE courses (\n",
        "    id INT NOT NULL PRIMARY KEY AUTO_INCREMENT,\n",
        "    name varchar(20),\n",
        "    teachers_id INT,\n",
        "    total_students INT\n",
        "    );\n",
        "\n",
        "-- Insert Data into Table courses\n",
        "INSERT INTO courses (name, teachers_id, total_students)\n",
        "    VALUES  ('Calculus', 2, 20),\n",
        "            ('Physics', 2, 10),\n",
        "            ('Calculus', 1, 30),\n",
        "            ('Computer Science', 1, 20),\n",
        "            ('Politic', 4, 15),\n",
        "            ('Algebra', 2, 10),\n",
        "            ('Algebra', 13, 30),\n",
        "            ('Computer Science', 10, 35),\n",
        "            ('Life Science', 11, 20),\n",
        "            ('Chemistry', 9, 22),\n",
        "            ('Chemistry', 8, 16),\n",
        "            ('Calculus', 5, 19),\n",
        "            ('Politic', 4, 17),\n",
        "            ('Biology', 6, 22),\n",
        "            ('Physics', 3, 29),\n",
        "            ('Biology', 8, 28),\n",
        "            ('Calculus', 12, 34),\n",
        "            ('Physics', 13, 34),\n",
        "            ('Biology', 14, 25),\n",
        "            ('Calculus', 15, 20);\n",
        "```"
      ],
      "metadata": {
        "id": "RpVp3HYz3ApX"
      }
    },
    {
      "cell_type": "markdown",
      "source": [
        "---\n",
        "### Data Query Language (DQL)"
      ],
      "metadata": {
        "id": "XyLY5PRq3wSc"
      }
    },
    {
      "cell_type": "markdown",
      "source": [
        "```\n",
        "SELECT * \n",
        "FROM teachers\n",
        "JOIN courses ON teachers.id=courses.teachers_id\n",
        "WHERE (courses.name, teachers.salary) IN (\n",
        "  \n",
        "  -- Get Courses's Name and Maximum Salary of the Lecturer Who Teaches that Course\n",
        "  \n",
        "  SELECT courses.name, MAX(teachers.salary)\n",
        "  FROM teachers\n",
        "  JOIN courses ON teachers.id=courses.teachers_id\n",
        "  GROUP BY courses.name\n",
        ")\n",
        "ORDER BY courses.name ASC\n",
        "```"
      ],
      "metadata": {
        "id": "94vYnP7L31do"
      }
    }
  ]
}